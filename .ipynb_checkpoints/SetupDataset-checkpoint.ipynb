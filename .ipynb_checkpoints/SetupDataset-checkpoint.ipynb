{
 "cells": [
  {
   "cell_type": "code",
   "execution_count": 10,
   "id": "9ba56c1c-dec9-4524-923f-126b6b250617",
   "metadata": {
    "tags": []
   },
   "outputs": [],
   "source": [
    "import os\n",
    "import shutil\n",
    "import numpy as np\n",
    "import tqdm\n",
    "\n",
    "from pycocotools.coco import COCO"
   ]
  },
  {
   "cell_type": "code",
   "execution_count": 14,
   "id": "bb59af68-b6c9-44a6-bcd4-10a77f56837c",
   "metadata": {
    "tags": []
   },
   "outputs": [],
   "source": [
    "save_base_path  = './tmp/labels/'\n",
    "save_image_path = './tmp/images/'"
   ]
  },
  {
   "cell_type": "code",
   "execution_count": 11,
   "id": "6249ff56-f336-4080-9948-c092fdc25321",
   "metadata": {
    "tags": []
   },
   "outputs": [
    {
     "name": "stdout",
     "output_type": "stream",
     "text": [
      "loading annotations into memory...\n",
      "Done (t=0.06s)\n",
      "creating index...\n",
      "index created!\n"
     ]
    }
   ],
   "source": [
    "data_source = COCO(annotation_file='./TACO/data/annotations.json')"
   ]
  },
  {
   "cell_type": "code",
   "execution_count": 12,
   "id": "355d9f25-327d-4a31-967b-6c1456aa5838",
   "metadata": {
    "tags": []
   },
   "outputs": [
    {
     "name": "stdout",
     "output_type": "stream",
     "text": [
      "['Aluminium foil', 'Battery', 'Aluminium blister pack', 'Carded blister pack', 'Other plastic bottle', 'Clear plastic bottle', 'Glass bottle', 'Plastic bottle cap', 'Metal bottle cap', 'Broken glass', 'Food Can', 'Aerosol', 'Drink can', 'Toilet tube', 'Other carton', 'Egg carton', 'Drink carton', 'Corrugated carton', 'Meal carton', 'Pizza box', 'Paper cup', 'Disposable plastic cup', 'Foam cup', 'Glass cup', 'Other plastic cup', 'Food waste', 'Glass jar', 'Plastic lid', 'Metal lid', 'Other plastic', 'Magazine paper', 'Tissues', 'Wrapping paper', 'Normal paper', 'Paper bag', 'Plastified paper bag', 'Plastic film', 'Six pack rings', 'Garbage bag', 'Other plastic wrapper', 'Single-use carrier bag', 'Polypropylene bag', 'Crisp packet', 'Spread tub', 'Tupperware', 'Disposable food container', 'Foam food container', 'Other plastic container', 'Plastic glooves', 'Plastic utensils', 'Pop tab', 'Rope & strings', 'Scrap metal', 'Shoe', 'Squeezable tube', 'Plastic straw', 'Paper straw', 'Styrofoam piece', 'Unlabeled litter', 'Cigarette']\n"
     ]
    }
   ],
   "source": [
    "print([cat['name'] for cat in data_source.loadCats(data_source.getCatIds())])"
   ]
  },
  {
   "cell_type": "code",
   "execution_count": 13,
   "id": "6c3eeac7-e1c4-40bf-9048-0671de2a1aa9",
   "metadata": {},
   "outputs": [],
   "source": [
    "\n",
    "# remapping label id to 0~1\n",
    "label_transfer = {5: 0, 12: 1}\n",
    "\n",
    "img_ids = data_source.getImgIds()\n",
    "\n",
    "catIds = data_source.getCatIds()\n",
    "categories = data_source.loadCats(catIds)\n",
    "categories.sort(key=lambda x: x['id'])\n",
    "classes = {}\n",
    "coco_labels = {}\n",
    "coco_labels_inverse = {}\n",
    "for c in categories:\n",
    "    coco_labels[len(classes)] = c['id']\n",
    "    coco_labels_inverse[c['id']] = len(classes)\n",
    "    classes[c['name']] = len(classes)\n",
    "\n",
    "class_num = {}"
   ]
  },
  {
   "cell_type": "code",
   "execution_count": 20,
   "id": "73056358-f631-4f51-a23b-62e0e188f88a",
   "metadata": {
    "tags": []
   },
   "outputs": [
    {
     "name": "stderr",
     "output_type": "stream",
     "text": [
      "change .json file to .txt file: 1500it [00:23, 64.59it/s] \n"
     ]
    }
   ],
   "source": [
    "for index, img_id in tqdm.tqdm(enumerate(img_ids), desc='change .json file to .txt file'):\n",
    "    img_info = data_source.loadImgs(img_id)[0]\n",
    "    \n",
    "    save_name = img_info['file_name'].replace('/', '_')    \n",
    "    file_name = save_name.split('.')[0]\n",
    "\n",
    "    height = img_info['height']\n",
    "    width = img_info['width']\n",
    "    \n",
    "    save_path = save_base_path + file_name + '.txt'\n",
    "    is_exist = False \n",
    "    with open(save_path, mode='w') as fp:\n",
    "        annotation_id = data_source.getAnnIds(img_id)\n",
    "        boxes = np.zeros((0, 5))\n",
    "        if len(annotation_id) == 0:\n",
    "            fp.write('')\n",
    "            continue\n",
    "        \n",
    "        annotations = data_source.loadAnns(annotation_id)\n",
    "        \n",
    "        lines = ''\n",
    "        for annotation in annotations:\n",
    "            label = coco_labels_inverse[annotation['category_id']]\n",
    "            if label in label_transfer.keys():\n",
    "                is_exist = True\n",
    "                box = annotation['bbox']\n",
    "                if box[2] < 1 or box[3] < 1:\n",
    "                    continue\n",
    "\n",
    "                box[0] = ((box[0] + box[2] / 2) / width)\n",
    "                box[1] = ((box[1] + box[3] / 2) / height)\n",
    "                box[2] = (box[2] / width)\n",
    "                box[3] = (box[3] / height)\n",
    "\n",
    "                label = label_transfer[label]\n",
    "                if label not in class_num.keys():\n",
    "                    class_num[label] = 0\n",
    "                \n",
    "                class_num[label] += 1\n",
    "                lines = lines + str(label)\n",
    "                for i in box:\n",
    "                    lines += ' ' + str(i)\n",
    "\n",
    "                lines += '\\n'\n",
    "\n",
    "        fp.writelines(lines)\n",
    "\n",
    "    if is_exist:\n",
    "        shutil.copy('./TACO/data/{}'.format(img_info['file_name']), os.path.join(save_image_path, save_name))\n",
    "    else:\n",
    "        os.remove(save_path)"
   ]
  },
  {
   "cell_type": "code",
   "execution_count": 21,
   "id": "fb630051-81cd-4b8d-8c70-a365fc777fe8",
   "metadata": {
    "tags": []
   },
   "outputs": [],
   "source": [
    "label_transfer_keys = list(label_transfer.keys())\n",
    "label_transfer_keys.sort()\n",
    "cats_names = [cat['name'] for cat in data_source.loadCats(ids=label_transfer_keys)]\n"
   ]
  },
  {
   "cell_type": "code",
   "execution_count": 23,
   "id": "9fc9da2b-1ac3-48f0-821f-6fb28f349f18",
   "metadata": {
    "tags": []
   },
   "outputs": [
    {
     "name": "stderr",
     "output_type": "stream",
     "text": [
      "Copying files: 708 files [00:14, 47.29 files/s] \n"
     ]
    }
   ],
   "source": [
    "import splitfolders\n",
    "splitfolders.ratio('tmp', output=\"taco\", seed=1337, ratio=(.8, 0.1,0.1)) "
   ]
  },
  {
   "cell_type": "code",
   "execution_count": 31,
   "id": "63aad1bb-245a-48e0-b832-f1149e904fac",
   "metadata": {
    "tags": []
   },
   "outputs": [
    {
     "name": "stdout",
     "output_type": "stream",
     "text": [
      "\n",
      "train: /home/shaharzafran/CS236781-Mini-Project/taco/train/ \n",
      "val:  /home/shaharzafran/CS236781-Mini-Project/taco/val/\n",
      "test: /home/shaharzafran/CS236781-Mini-Project/taco/test/\n",
      "\n",
      "# number of classes\n",
      "nc: 2\n",
      "\n",
      "# class names\n",
      "names: ['Clear plastic bottle', 'Drink can']\n",
      "\n"
     ]
    }
   ],
   "source": [
    "data_yaml = f'''\n",
    "train: /home/shaharzafran/CS236781-Mini-Project/taco/train/ \n",
    "val:  /home/shaharzafran/CS236781-Mini-Project/taco/val/\n",
    "test: /home/shaharzafran/CS236781-Mini-Project/taco/test/\n",
    "\n",
    "# number of classes\n",
    "nc: {len(class_num)}\n",
    "\n",
    "# class names\n",
    "names: {cats_names}\n",
    "'''\n",
    "\n",
    "print(data_yaml)\n",
    "with open('/home/shaharzafran/CS236781-Mini-Project/taco/taco.yaml', 'w') as f:\n",
    "    f.write(data_yaml)"
   ]
  },
  {
   "cell_type": "code",
   "execution_count": 33,
   "id": "ba4b507b-b5b9-402e-b9b3-168fd625c40a",
   "metadata": {
    "tags": []
   },
   "outputs": [
    {
     "name": "stdout",
     "output_type": "stream",
     "text": [
      "/bin/bash: nvidia-smi: command not found\n"
     ]
    }
   ],
   "source": [
    "!nvidia-smi "
   ]
  },
  {
   "cell_type": "code",
   "execution_count": 32,
   "id": "9112ca06-63a5-4321-95ac-42d0e8c288be",
   "metadata": {
    "tags": []
   },
   "outputs": [
    {
     "name": "stdout",
     "output_type": "stream",
     "text": [
      "/home/shaharzafran/CS236781-Mini-Project/yolov7\n",
      "YOLOR 🚀 v0.1-122-g3b41c2c torch 2.0.0+cu117 CPU\n",
      "\n",
      "Namespace(adam=False, artifact_alias='latest', batch_size=64, bbox_interval=-1, bucket='', cache_images=False, cfg='./cfg/training/yolov7.yaml', data='../taco/taco.yaml', device='', entity=None, epochs=30, evolve=False, exist_ok=False, freeze=[0], global_rank=-1, hyp='data/hyp.scratch.p5.yaml', image_weights=False, img_size=[320, 320], label_smoothing=0.0, linear_lr=False, local_rank=-1, multi_scale=False, name='exp', noautoanchor=False, nosave=False, notest=False, project='runs/train', quad=False, rect=False, resume=False, save_dir='runs/train/exp2', save_period=-1, single_cls=False, sync_bn=False, total_batch_size=64, upload_dataset=False, v5_metric=False, weights='', workers=8, world_size=1)\n",
      "\u001b[34m\u001b[1mtensorboard: \u001b[0mStart with 'tensorboard --logdir runs/train', view at http://localhost:6006/\n",
      "\u001b[34m\u001b[1mhyperparameters: \u001b[0mlr0=0.01, lrf=0.1, momentum=0.937, weight_decay=0.0005, warmup_epochs=3.0, warmup_momentum=0.8, warmup_bias_lr=0.1, box=0.05, cls=0.3, cls_pw=1.0, obj=0.7, obj_pw=1.0, iou_t=0.2, anchor_t=4.0, fl_gamma=0.0, hsv_h=0.015, hsv_s=0.7, hsv_v=0.4, degrees=0.0, translate=0.2, scale=0.9, shear=0.0, perspective=0.0, flipud=0.0, fliplr=0.5, mosaic=1.0, mixup=0.15, copy_paste=0.0, paste_in=0.15, loss_ota=1\n",
      "\u001b[34m\u001b[1mwandb: \u001b[0mInstall Weights & Biases for YOLOR logging with 'pip install wandb' (recommended)\n",
      "Overriding model.yaml nc=80 with nc=2\n",
      "\n",
      "                 from  n    params  module                                  arguments                     \n",
      "  0                -1  1       928  models.common.Conv                      [3, 32, 3, 1]                 \n",
      "  1                -1  1     18560  models.common.Conv                      [32, 64, 3, 2]                \n",
      "  2                -1  1     36992  models.common.Conv                      [64, 64, 3, 1]                \n",
      "  3                -1  1     73984  models.common.Conv                      [64, 128, 3, 2]               \n",
      "  4                -1  1      8320  models.common.Conv                      [128, 64, 1, 1]               \n",
      "  5                -2  1      8320  models.common.Conv                      [128, 64, 1, 1]               \n",
      "  6                -1  1     36992  models.common.Conv                      [64, 64, 3, 1]                \n",
      "  7                -1  1     36992  models.common.Conv                      [64, 64, 3, 1]                \n",
      "  8                -1  1     36992  models.common.Conv                      [64, 64, 3, 1]                \n",
      "  9                -1  1     36992  models.common.Conv                      [64, 64, 3, 1]                \n",
      " 10  [-1, -3, -5, -6]  1         0  models.common.Concat                    [1]                           \n",
      " 11                -1  1     66048  models.common.Conv                      [256, 256, 1, 1]              \n",
      " 12                -1  1         0  models.common.MP                        []                            \n",
      " 13                -1  1     33024  models.common.Conv                      [256, 128, 1, 1]              \n",
      " 14                -3  1     33024  models.common.Conv                      [256, 128, 1, 1]              \n",
      " 15                -1  1    147712  models.common.Conv                      [128, 128, 3, 2]              \n",
      " 16          [-1, -3]  1         0  models.common.Concat                    [1]                           \n",
      " 17                -1  1     33024  models.common.Conv                      [256, 128, 1, 1]              \n",
      " 18                -2  1     33024  models.common.Conv                      [256, 128, 1, 1]              \n",
      " 19                -1  1    147712  models.common.Conv                      [128, 128, 3, 1]              \n",
      " 20                -1  1    147712  models.common.Conv                      [128, 128, 3, 1]              \n",
      " 21                -1  1    147712  models.common.Conv                      [128, 128, 3, 1]              \n",
      " 22                -1  1    147712  models.common.Conv                      [128, 128, 3, 1]              \n",
      " 23  [-1, -3, -5, -6]  1         0  models.common.Concat                    [1]                           \n",
      " 24                -1  1    263168  models.common.Conv                      [512, 512, 1, 1]              \n",
      " 25                -1  1         0  models.common.MP                        []                            \n",
      " 26                -1  1    131584  models.common.Conv                      [512, 256, 1, 1]              \n",
      " 27                -3  1    131584  models.common.Conv                      [512, 256, 1, 1]              \n",
      " 28                -1  1    590336  models.common.Conv                      [256, 256, 3, 2]              \n",
      " 29          [-1, -3]  1         0  models.common.Concat                    [1]                           \n",
      " 30                -1  1    131584  models.common.Conv                      [512, 256, 1, 1]              \n",
      " 31                -2  1    131584  models.common.Conv                      [512, 256, 1, 1]              \n",
      " 32                -1  1    590336  models.common.Conv                      [256, 256, 3, 1]              \n",
      " 33                -1  1    590336  models.common.Conv                      [256, 256, 3, 1]              \n",
      " 34                -1  1    590336  models.common.Conv                      [256, 256, 3, 1]              \n",
      " 35                -1  1    590336  models.common.Conv                      [256, 256, 3, 1]              \n",
      " 36  [-1, -3, -5, -6]  1         0  models.common.Concat                    [1]                           \n",
      " 37                -1  1   1050624  models.common.Conv                      [1024, 1024, 1, 1]            \n",
      " 38                -1  1         0  models.common.MP                        []                            \n",
      " 39                -1  1    525312  models.common.Conv                      [1024, 512, 1, 1]             \n",
      " 40                -3  1    525312  models.common.Conv                      [1024, 512, 1, 1]             \n",
      " 41                -1  1   2360320  models.common.Conv                      [512, 512, 3, 2]              \n",
      " 42          [-1, -3]  1         0  models.common.Concat                    [1]                           \n",
      " 43                -1  1    262656  models.common.Conv                      [1024, 256, 1, 1]             \n",
      " 44                -2  1    262656  models.common.Conv                      [1024, 256, 1, 1]             \n",
      " 45                -1  1    590336  models.common.Conv                      [256, 256, 3, 1]              \n",
      " 46                -1  1    590336  models.common.Conv                      [256, 256, 3, 1]              \n",
      " 47                -1  1    590336  models.common.Conv                      [256, 256, 3, 1]              \n",
      " 48                -1  1    590336  models.common.Conv                      [256, 256, 3, 1]              \n",
      " 49  [-1, -3, -5, -6]  1         0  models.common.Concat                    [1]                           \n",
      " 50                -1  1   1050624  models.common.Conv                      [1024, 1024, 1, 1]            \n",
      " 51                -1  1   7609344  models.common.SPPCSPC                   [1024, 512, 1]                \n",
      " 52                -1  1    131584  models.common.Conv                      [512, 256, 1, 1]              \n",
      " 53                -1  1         0  torch.nn.modules.upsampling.Upsample    [None, 2, 'nearest']          \n",
      " 54                37  1    262656  models.common.Conv                      [1024, 256, 1, 1]             \n",
      " 55          [-1, -2]  1         0  models.common.Concat                    [1]                           \n",
      " 56                -1  1    131584  models.common.Conv                      [512, 256, 1, 1]              \n",
      " 57                -2  1    131584  models.common.Conv                      [512, 256, 1, 1]              \n",
      " 58                -1  1    295168  models.common.Conv                      [256, 128, 3, 1]              \n",
      " 59                -1  1    147712  models.common.Conv                      [128, 128, 3, 1]              \n",
      " 60                -1  1    147712  models.common.Conv                      [128, 128, 3, 1]              \n",
      " 61                -1  1    147712  models.common.Conv                      [128, 128, 3, 1]              \n",
      " 62[-1, -2, -3, -4, -5, -6]  1         0  models.common.Concat                    [1]                           \n",
      " 63                -1  1    262656  models.common.Conv                      [1024, 256, 1, 1]             \n",
      " 64                -1  1     33024  models.common.Conv                      [256, 128, 1, 1]              \n",
      " 65                -1  1         0  torch.nn.modules.upsampling.Upsample    [None, 2, 'nearest']          \n",
      " 66                24  1     65792  models.common.Conv                      [512, 128, 1, 1]              \n",
      " 67          [-1, -2]  1         0  models.common.Concat                    [1]                           \n",
      " 68                -1  1     33024  models.common.Conv                      [256, 128, 1, 1]              \n",
      " 69                -2  1     33024  models.common.Conv                      [256, 128, 1, 1]              \n",
      " 70                -1  1     73856  models.common.Conv                      [128, 64, 3, 1]               \n",
      " 71                -1  1     36992  models.common.Conv                      [64, 64, 3, 1]                \n",
      " 72                -1  1     36992  models.common.Conv                      [64, 64, 3, 1]                \n",
      " 73                -1  1     36992  models.common.Conv                      [64, 64, 3, 1]                \n",
      " 74[-1, -2, -3, -4, -5, -6]  1         0  models.common.Concat                    [1]                           \n",
      " 75                -1  1     65792  models.common.Conv                      [512, 128, 1, 1]              \n",
      " 76                -1  1         0  models.common.MP                        []                            \n",
      " 77                -1  1     16640  models.common.Conv                      [128, 128, 1, 1]              \n",
      " 78                -3  1     16640  models.common.Conv                      [128, 128, 1, 1]              \n",
      " 79                -1  1    147712  models.common.Conv                      [128, 128, 3, 2]              \n",
      " 80      [-1, -3, 63]  1         0  models.common.Concat                    [1]                           \n",
      " 81                -1  1    131584  models.common.Conv                      [512, 256, 1, 1]              \n",
      " 82                -2  1    131584  models.common.Conv                      [512, 256, 1, 1]              \n",
      " 83                -1  1    295168  models.common.Conv                      [256, 128, 3, 1]              \n",
      " 84                -1  1    147712  models.common.Conv                      [128, 128, 3, 1]              \n",
      " 85                -1  1    147712  models.common.Conv                      [128, 128, 3, 1]              \n",
      " 86                -1  1    147712  models.common.Conv                      [128, 128, 3, 1]              \n",
      " 87[-1, -2, -3, -4, -5, -6]  1         0  models.common.Concat                    [1]                           \n",
      " 88                -1  1    262656  models.common.Conv                      [1024, 256, 1, 1]             \n",
      " 89                -1  1         0  models.common.MP                        []                            \n",
      " 90                -1  1     66048  models.common.Conv                      [256, 256, 1, 1]              \n",
      " 91                -3  1     66048  models.common.Conv                      [256, 256, 1, 1]              \n",
      " 92                -1  1    590336  models.common.Conv                      [256, 256, 3, 2]              \n",
      " 93      [-1, -3, 51]  1         0  models.common.Concat                    [1]                           \n",
      " 94                -1  1    525312  models.common.Conv                      [1024, 512, 1, 1]             \n",
      " 95                -2  1    525312  models.common.Conv                      [1024, 512, 1, 1]             \n",
      " 96                -1  1   1180160  models.common.Conv                      [512, 256, 3, 1]              \n",
      " 97                -1  1    590336  models.common.Conv                      [256, 256, 3, 1]              \n",
      " 98                -1  1    590336  models.common.Conv                      [256, 256, 3, 1]              \n",
      " 99                -1  1    590336  models.common.Conv                      [256, 256, 3, 1]              \n",
      "100[-1, -2, -3, -4, -5, -6]  1         0  models.common.Concat                    [1]                           \n",
      "101                -1  1   1049600  models.common.Conv                      [2048, 512, 1, 1]             \n",
      "102                75  1    328704  models.common.RepConv                   [128, 256, 3, 1]              \n",
      "103                88  1   1312768  models.common.RepConv                   [256, 512, 3, 1]              \n",
      "104               101  1   5246976  models.common.RepConv                   [512, 1024, 3, 1]             \n",
      "105   [102, 103, 104]  1     39550  models.yolo.IDetect                     [2, [[12, 16, 19, 36, 40, 28], [36, 75, 76, 55, 72, 146], [142, 110, 192, 243, 459, 401]], [256, 512, 1024]]\n",
      "/home/shaharzafran/.local/lib/python3.8/site-packages/torch/functional.py:504: UserWarning: torch.meshgrid: in an upcoming release, it will be required to pass the indexing argument. (Triggered internally at ../aten/src/ATen/native/TensorShape.cpp:3483.)\n",
      "  return _VF.meshgrid(tensors, **kwargs)  # type: ignore[attr-defined]\n",
      "Model Summary: 415 layers, 37201950 parameters, 37201950 gradients, 105.1 GFLOPS\n",
      "\n",
      "Scaled weight_decay = 0.0005\n",
      "Optimizer groups: 95 .bias, 95 conv.weight, 98 other\n",
      "\u001b[34m\u001b[1mtrain: \u001b[0mScanning '/home/shaharzafran/CS236781-Mini-Project/taco/train/labels' ima\u001b[0m\n",
      "\u001b[34m\u001b[1mtrain: \u001b[0mNew cache created: /home/shaharzafran/CS236781-Mini-Project/taco/train/labels.cache\n",
      "\u001b[34m\u001b[1mval: \u001b[0mScanning '/home/shaharzafran/CS236781-Mini-Project/taco/val/labels' images \u001b[0m\n",
      "\u001b[34m\u001b[1mval: \u001b[0mNew cache created: /home/shaharzafran/CS236781-Mini-Project/taco/val/labels.cache\n",
      "\n",
      "\u001b[34m\u001b[1mautoanchor: \u001b[0mAnalyzing anchors... anchors/target = 4.20, Best Possible Recall (BPR) = 0.9689. Attempting to improve anchors, please wait...\n",
      "\u001b[34m\u001b[1mautoanchor: \u001b[0mWARNING: Extremely small objects found. 5 of 418 labels are < 3 pixels in size.\n",
      "\u001b[34m\u001b[1mautoanchor: \u001b[0mRunning kmeans for 9 anchors on 418 points...\n",
      "\u001b[34m\u001b[1mautoanchor: \u001b[0mthr=0.25: 0.9928 best possible recall, 4.66 anchors past thr\n",
      "\u001b[34m\u001b[1mautoanchor: \u001b[0mn=9, img_size=320, metric_all=0.313/0.724-mean/best, past_thr=0.479-mean: 11,9,  29,16,  21,32,  32,61,  58,40,  67,116,  116,78,  89,229,  218,119\n",
      "\u001b[34m\u001b[1mautoanchor: \u001b[0mEvolving anchors with Genetic Algorithm: fitness = 0.7337: 100%|█| 1\u001b[0m\n",
      "\u001b[34m\u001b[1mautoanchor: \u001b[0mthr=0.25: 0.9952 best possible recall, 4.85 anchors past thr\n",
      "\u001b[34m\u001b[1mautoanchor: \u001b[0mn=9, img_size=320, metric_all=0.320/0.735-mean/best, past_thr=0.479-mean: 10,8,  27,13,  20,29,  30,51,  49,37,  103,67,  70,105,  75,226,  189,113\n",
      "\u001b[34m\u001b[1mautoanchor: \u001b[0mNew anchors saved to model. Update model *.yaml to use these anchors in the future.\n",
      "\n",
      "Image sizes 320 train, 320 test\n",
      "Using 8 dataloader workers\n",
      "Logging results to runs/train/exp2\n",
      "Starting training for 30 epochs...\n",
      "\n",
      "     Epoch   gpu_mem       box       obj       cls     total    labels  img_size\n",
      "  0%|                                                     | 0/5 [00:00<?, ?it/s]"
     ]
    }
   ],
   "source": [
    "# run this cell to begin training\n",
    "%cd /home/shaharzafran/CS236781-Mini-Project/yolov7\n",
    "!python train.py --img 320 --batch 1 --epochs 30 --data ../taco/taco.yaml --cfg ./cfg/training/yolov7.yaml --weights '' --batch-size 64"
   ]
  },
  {
   "cell_type": "code",
   "execution_count": 28,
   "id": "6956ba6d-a710-40a2-8b2c-84c5d727cff8",
   "metadata": {
    "tags": []
   },
   "outputs": [
    {
     "name": "stdout",
     "output_type": "stream",
     "text": [
      "/home/shaharzafran/CS236781-Mini-Project/yolov7\n"
     ]
    }
   ],
   "source": [
    "!pwd"
   ]
  }
 ],
 "metadata": {
  "kernelspec": {
   "display_name": "Python 3 (ipykernel)",
   "language": "python",
   "name": "python3"
  },
  "language_info": {
   "codemirror_mode": {
    "name": "ipython",
    "version": 3
   },
   "file_extension": ".py",
   "mimetype": "text/x-python",
   "name": "python",
   "nbconvert_exporter": "python",
   "pygments_lexer": "ipython3",
   "version": "3.8.12"
  }
 },
 "nbformat": 4,
 "nbformat_minor": 5
}
